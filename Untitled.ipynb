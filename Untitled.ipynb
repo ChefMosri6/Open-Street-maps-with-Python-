{
 "cells": [
  {
   "cell_type": "code",
   "execution_count": 1,
   "metadata": {},
   "outputs": [],
   "source": [
    "import pandas"
   ]
  },
  {
   "cell_type": "code",
   "execution_count": 7,
   "metadata": {},
   "outputs": [],
   "source": [
    "data = pandas.read_csv(\"Datos.csv\", skiprows =0)"
   ]
  },
  {
   "cell_type": "code",
   "execution_count": 8,
   "metadata": {},
   "outputs": [
    {
     "name": "stdout",
     "output_type": "stream",
     "text": [
      "<class 'pandas.core.frame.DataFrame'>\n",
      "RangeIndex: 15310 entries, 0 to 15309\n",
      "Data columns (total 5 columns):\n",
      "shapeid    15310 non-null int64\n",
      "x          15310 non-null float64\n",
      "y          15310 non-null float64\n",
      "id         15310 non-null int64\n",
      "name       9254 non-null object\n",
      "dtypes: float64(2), int64(2), object(1)\n",
      "memory usage: 598.1+ KB\n"
     ]
    }
   ],
   "source": [
    "data.info()"
   ]
  },
  {
   "cell_type": "code",
   "execution_count": 20,
   "metadata": {},
   "outputs": [
    {
     "data": {
      "text/plain": [
       "array([nan, 'Caseta de Cobro LA JOYA', 'Hospital Angeles del Carmen', ...,\n",
       "       'SSAM', 'Condenada', 'Croitre'], dtype=object)"
      ]
     },
     "execution_count": 20,
     "metadata": {},
     "output_type": "execute_result"
    }
   ],
   "source": [
    "data.name.unique()"
   ]
  },
  {
   "cell_type": "code",
   "execution_count": 27,
   "metadata": {},
   "outputs": [],
   "source": [
    "dataN = data.name.dropna()"
   ]
  },
  {
   "cell_type": "code",
   "execution_count": 24,
   "metadata": {},
   "outputs": [
    {
     "data": {
      "text/plain": [
       "<bound method NDFrame.describe of        shapeid           x          y          id  \\\n",
       "0            0 -103.317058  20.703122    28774831   \n",
       "1            1 -103.315120  20.706065    28774889   \n",
       "2            2 -103.313726  20.707917    28776032   \n",
       "3            3 -103.313615  20.708022    28776223   \n",
       "4            4 -103.313628  20.708146    28776246   \n",
       "5            5 -103.313832  20.708222    28776279   \n",
       "6            6 -103.308495  20.710623    28777191   \n",
       "7            7 -103.326587  20.703174    28781298   \n",
       "8            8 -103.327050  20.682650    28781514   \n",
       "9            9 -103.327706  20.680744    28781516   \n",
       "10          10 -103.328055  20.679734    28781517   \n",
       "11          11 -103.328351  20.678858    28781518   \n",
       "12          12 -103.329138  20.676533    28781520   \n",
       "13          13 -103.329456  20.675626    28781522   \n",
       "14          14 -103.329991  20.674073    28781523   \n",
       "15          15 -103.330522  20.672484    28781524   \n",
       "16          16 -103.330846  20.671564    28781529   \n",
       "17          17 -103.331139  20.670699    28781530   \n",
       "18          18 -103.368561  20.674553    28791354   \n",
       "19          19 -103.354603  20.677187   130153815   \n",
       "20          20 -103.452157  20.699189   267535666   \n",
       "21          21 -103.139349  20.605361   267537741   \n",
       "22          22 -103.354039  20.680145   286264718   \n",
       "23          23 -103.392019  20.666418   290908456   \n",
       "24          24 -103.420187  20.687010   291069721   \n",
       "25          25 -103.339440  20.679307   291180359   \n",
       "26          26 -103.398229  20.680948   291238619   \n",
       "27          27 -103.355392  20.666910   291260327   \n",
       "28          28 -103.429809  20.675183   291542068   \n",
       "29          29 -103.323873  20.708101   292038701   \n",
       "...        ...         ...        ...         ...   \n",
       "15280    15280 -103.411340  20.632725  6575721988   \n",
       "15281    15281 -103.475102  20.629411  6576935572   \n",
       "15282    15282 -103.474678  20.629343  6576935573   \n",
       "15283    15283 -103.479034  20.630500  6576947596   \n",
       "15284    15284 -103.453867  20.626376  6577259916   \n",
       "15285    15285 -103.421461  20.780880  6577665451   \n",
       "15286    15286 -103.421042  20.780648  6577665453   \n",
       "15287    15287 -103.283922  20.671863  6579098404   \n",
       "15288    15288 -103.334675  20.563154  6584804253   \n",
       "15289    15289 -103.334603  20.563145  6584804254   \n",
       "15290    15290 -103.347310  20.565556  6584804277   \n",
       "15291    15291 -103.347280  20.565553  6584804278   \n",
       "15292    15292 -103.413690  20.596207  6585044989   \n",
       "15293    15293 -103.349609  20.659699  6588060733   \n",
       "15294    15294 -103.390819  20.571496  6589824759   \n",
       "15295    15295 -103.345457  20.568596  6591624489   \n",
       "15296    15296 -103.346384  20.568724  6591624491   \n",
       "15297    15297 -103.345399  20.568952  6591624493   \n",
       "15298    15298 -103.345343  20.569305  6591624495   \n",
       "15299    15299 -103.346388  20.569069  6591624497   \n",
       "15300    15300 -103.346381  20.569427  6591624499   \n",
       "15301    15301 -103.346368  20.569795  6591624500   \n",
       "15302    15302 -103.378751  20.675424  6591923592   \n",
       "15303    15303 -103.202431  20.623395  6592253221   \n",
       "15304    15304 -103.204068  20.613789  6592286972   \n",
       "15305    15305 -103.204909  20.613645  6592286977   \n",
       "15306    15306 -103.402382  20.617093  6593533212   \n",
       "15307    15307 -103.407383  20.620093  6593546067   \n",
       "15308    15308 -103.402780  20.625626  6593550432   \n",
       "15309    15309 -103.203252  20.612115  6601158195   \n",
       "\n",
       "                               name  \n",
       "0                               NaN  \n",
       "1                               NaN  \n",
       "2                               NaN  \n",
       "3                               NaN  \n",
       "4                               NaN  \n",
       "5                               NaN  \n",
       "6                               NaN  \n",
       "7                               NaN  \n",
       "8                               NaN  \n",
       "9                               NaN  \n",
       "10                              NaN  \n",
       "11                              NaN  \n",
       "12                              NaN  \n",
       "13                              NaN  \n",
       "14                              NaN  \n",
       "15                              NaN  \n",
       "16                              NaN  \n",
       "17                              NaN  \n",
       "18                              NaN  \n",
       "19                              NaN  \n",
       "20                              NaN  \n",
       "21          Caseta de Cobro LA JOYA  \n",
       "22                              NaN  \n",
       "23                              NaN  \n",
       "24                              NaN  \n",
       "25                              NaN  \n",
       "26      Hospital Angeles del Carmen  \n",
       "27                    Mexicaltzingo  \n",
       "28                              NaN  \n",
       "29                              NaN  \n",
       "...                             ...  \n",
       "15280       Mezquita de Guadalajara  \n",
       "15281                           NaN  \n",
       "15282                           NaN  \n",
       "15283                           NaN  \n",
       "15284                           NaN  \n",
       "15285                           NaN  \n",
       "15286                           NaN  \n",
       "15287              La Vara de Aarón  \n",
       "15288                           NaN  \n",
       "15289                           NaN  \n",
       "15290                           NaN  \n",
       "15291                           NaN  \n",
       "15292                           NaN  \n",
       "15293  Guadalajara, Jalisco, Mexico  \n",
       "15294                           NaN  \n",
       "15295                           NaN  \n",
       "15296                           NaN  \n",
       "15297                           NaN  \n",
       "15298                           NaN  \n",
       "15299                           NaN  \n",
       "15300                           NaN  \n",
       "15301                           NaN  \n",
       "15302                          SSAM  \n",
       "15303                           NaN  \n",
       "15304                           NaN  \n",
       "15305                           NaN  \n",
       "15306                     Condenada  \n",
       "15307                            BP  \n",
       "15308                       Croitre  \n",
       "15309                           NaN  \n",
       "\n",
       "[15310 rows x 5 columns]>"
      ]
     },
     "execution_count": 24,
     "metadata": {},
     "output_type": "execute_result"
    }
   ],
   "source": [
    "data.describe"
   ]
  },
  {
   "cell_type": "code",
   "execution_count": 28,
   "metadata": {},
   "outputs": [
    {
     "data": {
      "text/plain": [
       "Mibici                                   120\n",
       "Oxxo                                      89\n",
       "PEMEX                                     59\n",
       "Nombre En Tramite                         52\n",
       "Benito Juarez                             47\n",
       "Jose Vasconcelos                          44\n",
       "Jean Piaget                               42\n",
       "Bote de Basura                            40\n",
       "Agustin Ya�ez                             40\n",
       "Emiliano Zapata                           39\n",
       "7-Eleven                                  39\n",
       "Pemex                                     36\n",
       "Gabriela Mistral                          34\n",
       "Ni�os Heroes                              34\n",
       "Jose Clemente Orozco                      34\n",
       "Adolfo Lopez Mateos                       34\n",
       "Santander                                 31\n",
       "Federico Froebel                          30\n",
       "Sor Juana Ines De La Cruz                 29\n",
       "Irene Robledo Garcia                      29\n",
       "Escaleras                                 28\n",
       "Cuauhtemoc                                28\n",
       "Lazaro Cardenas Del Rio                   28\n",
       "Miguel Hidalgo Y Costilla                 25\n",
       "Manuel Lopez Cotilla                      25\n",
       "Banorte                                   24\n",
       "Juan Escutia                              23\n",
       "Jaime Torres Bodet                        23\n",
       "Farmacias Guadalajara                     23\n",
       "Francisco Gabilondo Soler                 23\n",
       "                                        ... \n",
       "Centro de salud Alamedas de Zalatitan      1\n",
       "Tonalá                                     1\n",
       "MAVI de Occidente                          1\n",
       "Abarrotes Don Luis                         1\n",
       "Esc De Enfermeria Uag                      1\n",
       "Conejo                                     1\n",
       "cabe´s spa                                 1\n",
       "Juana Ines De La Cruz                      1\n",
       "Casio Supp                                 1\n",
       "San Bernardo                               1\n",
       "Bolería DeBoleo                            1\n",
       "Abarrotes mago                             1\n",
       "Lab. de Computo F 108                      1\n",
       "Antoine De Saint Exupery                   1\n",
       "Escuela Preparatoria 3                     1\n",
       "Jose De Jesus Gonza�Lez Padilla            1\n",
       "D 106                                      1\n",
       "Capilla La Santa Cruz                      1\n",
       "Charlotte Pets                             1\n",
       "B 301                                      1\n",
       "Refaccionaria                              1\n",
       "bus para Central Vieja 604                 1\n",
       "Chapalita                                  1\n",
       "Roxy                                       1\n",
       "SuperDulcería La Reyna de Abastos          1\n",
       "Bosque Los Colomos                         1\n",
       "Ma. Trinidad Martinez Yanyes               1\n",
       "Jardines Tapatíos                          1\n",
       "Centro De Lenguas                          1\n",
       "SiTren González Ortega 2                   1\n",
       "Name: name, Length: 5524, dtype: int64"
      ]
     },
     "execution_count": 28,
     "metadata": {},
     "output_type": "execute_result"
    }
   ],
   "source": [
    "dataN.value_counts()"
   ]
  },
  {
   "cell_type": "code",
   "execution_count": 32,
   "metadata": {},
   "outputs": [],
   "source": [
    "import seaborn\n",
    "import matplotlib.pyplot as plt"
   ]
  },
  {
   "cell_type": "code",
   "execution_count": 39,
   "metadata": {},
   "outputs": [
    {
     "data": {
      "text/plain": [
       "<function matplotlib.pyplot.show(*args, **kw)>"
      ]
     },
     "execution_count": 39,
     "metadata": {},
     "output_type": "execute_result"
    },
    {
     "data": {
      "text/plain": [
       "<Figure size 3000x1500 with 0 Axes>"
      ]
     },
     "metadata": {},
     "output_type": "display_data"
    },
    {
     "data": {
      "image/png": "[encoded data removed]",
      "text/plain": [
       "<Figure size 432x432 with 3 Axes>"
      ]
     },
     "metadata": {
      "needs_background": "light"
     },
     "output_type": "display_data"
    }
   ],
   "source": [
    "fig = plt.figure(figsize = (10,5), dpi =300)\n",
    "seaborn.jointplot(x=\"x\",y=\"y\", data=data[data.name.notnull()])\n",
    "plt.savefig(\"imagenDatos.pdf\")\n",
    "plt.show"
   ]
  },
  {
   "cell_type": "code",
   "execution_count": 40,
   "metadata": {},
   "outputs": [],
   "source": [
    "import folium"
   ]
  },
  {
   "cell_type": "code",
   "execution_count": 42,
   "metadata": {},
   "outputs": [],
   "source": [
    "centro = data.y.mean() , data.x.mean()\n",
    "osm = folium.Map(centro,zoom_start = 13)\n",
    "osm.save(\"mapa.html\")"
   ]
  },
  {
   "cell_type": "code",
   "execution_count": 53,
   "metadata": {},
   "outputs": [],
   "source": [
    "for info in zip(data.y , data.x , data.name):\n",
    "    folium.Marker(info[:2] , popup = info [2]).add_to(osm)\n",
    "osm.save(\"mapa1.html\")"
   ]
  },
  {
   "cell_type": "code",
   "execution_count": null,
   "metadata": {},
   "outputs": [],
   "source": []
  },
  {
   "cell_type": "code",
   "execution_count": null,
   "metadata": {},
   "outputs": [],
   "source": []
  }
 ],
 "metadata": {
  "kernelspec": {
   "display_name": "Python 3",
   "language": "python",
   "name": "python3"
  },
  "language_info": {
   "codemirror_mode": {
    "name": "ipython",
    "version": 3
   },
   "file_extension": ".py",
   "mimetype": "text/x-python",
   "name": "python",
   "nbconvert_exporter": "python",
   "pygments_lexer": "ipython3",
   "version": "3.7.3"
  }
 },
 "nbformat": 4,
 "nbformat_minor": 2
}
